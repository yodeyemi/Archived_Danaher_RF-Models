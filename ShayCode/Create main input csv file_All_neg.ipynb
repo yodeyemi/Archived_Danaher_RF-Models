{
 "cells": [
  {
   "cell_type": "code",
   "execution_count": 4,
   "metadata": {},
   "outputs": [
    {
     "data": {
      "text/plain": [
       "'%matplotlib inline\\nimport pylab\\nimport numpy as np\\nimport pandas as pd\\n\\n# data location\\nlocalpath = \\'\\'\\nlocalpath = \\'C://Users//Shaghayegh.kazemlou//Shay//Danaher//Microbiology//Data//\\'\\n\\n\\nneg01=pd.read_excel(localpath+\"BB2Allneg_wAreaCount_04142020 kss.xlsx\")\\nneg02=pd.read_csv(localpath+\"NEG_macblooddata.csv\")\\nneg03=pd.read_csv(localpath+\"NEG_MatchDilsBB2Feas_20201009.csv\")\\n\\nneg12 = pd.concat([neg01, neg02])\\nneg00 = pd.concat([neg12, neg03])\\nneg00=neg00[neg03.columns]\\nneg00.reset_index(drop=True, inplace=True)\\nneg00[\\'trackingID\\']=neg00.index\\nneg00 = neg00[ [\\'trackingID\\'] + [ col for col in neg00.columns if col != \\'trackingID\\' ] ] # make trackingID first column\\nneg00.to_csv(localpath+\"All_neg.csv\", index=False)'"
      ]
     },
     "execution_count": 4,
     "metadata": {},
     "output_type": "execute_result"
    }
   ],
   "source": [
    "%matplotlib inline\n",
    "import pylab\n",
    "import numpy as np\n",
    "import pandas as pd\n",
    "\n",
    "# data location\n",
    "localpath = ''\n",
    "localpath = 'C://Users//Shaghayegh.kazemlou//Shay//Danaher//Microbiology//Data//'\n",
    "\n",
    "\n",
    "neg01=pd.read_excel(localpath+\"BB2Allneg_wAreaCount_04142020 kss.xlsx\")\n",
    "neg02=pd.read_csv(localpath+\"NEG_macblooddata.csv\")\n",
    "neg03=pd.read_csv(localpath+\"NEG_MatchDilsBB2Feas_20201009.csv\")\n",
    "\n",
    "neg12 = pd.concat([neg01, neg02])\n",
    "neg00 = pd.concat([neg12, neg03])\n",
    "neg00=neg00[neg03.columns]\n",
    "neg00.reset_index(drop=True, inplace=True)\n",
    "neg00['trackingID']=neg00.index\n",
    "neg00 = neg00[ ['trackingID'] + [ col for col in neg00.columns if col != 'trackingID' ] ] # make trackingID first column\n",
    "neg00.to_csv(localpath+\"All_neg.csv\", index=False)"
   ]
  }
 ],
 "metadata": {
  "kernelspec": {
   "display_name": "Python 3",
   "language": "python",
   "name": "python3"
  },
  "language_info": {
   "codemirror_mode": {
    "name": "ipython",
    "version": 3
   },
   "file_extension": ".py",
   "mimetype": "text/x-python",
   "name": "python",
   "nbconvert_exporter": "python",
   "pygments_lexer": "ipython3",
   "version": "3.7.4"
  }
 },
 "nbformat": 4,
 "nbformat_minor": 4
}
