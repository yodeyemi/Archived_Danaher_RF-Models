{
 "cells": [
  {
   "cell_type": "code",
   "execution_count": 1,
   "metadata": {},
   "outputs": [],
   "source": [
    "%matplotlib inline\n",
    "import pylab\n",
    "import numpy as np\n",
    "import pandas as pd\n",
    "import datetime as dt\n",
    "import matplotlib.pyplot as plt\n",
    "from matplotlib import cm as cm\n",
    "from sklearn import metrics\n",
    "from sklearn.ensemble import RandomForestRegressor\n",
    "from sklearn.model_selection import GridSearchCV, cross_validate,cross_val_score\n",
    "from scipy.stats import lognorm, kurtosis, skew, probplot, kstest, ttest_ind,f_oneway\n",
    "import seaborn as sn\n",
    "import matplotlib.pyplot as plt\n",
    "from sklearn.model_selection import train_test_split\n",
    "from sklearn.ensemble import RandomForestClassifier\n",
    "import warnings\n",
    "from sklearn.preprocessing import OneHotEncoder\n",
    "\n",
    "warnings.simplefilter(action='ignore', category=FutureWarning)\n"
   ]
  },
  {
   "cell_type": "markdown",
   "metadata": {},
   "source": [
    "# Your ML model"
   ]
  },
  {
   "cell_type": "code",
   "execution_count": null,
   "metadata": {},
   "outputs": [],
   "source": [
    "# build your classifier model and name it 'myclf'\n",
    "# run the rest of the code"
   ]
  },
  {
   "cell_type": "markdown",
   "metadata": {},
   "source": [
    "# AA and EA calculation"
   ]
  },
  {
   "cell_type": "code",
   "execution_count": 62,
   "metadata": {},
   "outputs": [],
   "source": [
    "growthThresh = 0.5"
   ]
  },
  {
   "cell_type": "code",
   "execution_count": 34,
   "metadata": {},
   "outputs": [
    {
     "name": "stdout",
     "output_type": "stream",
     "text": [
      "Requirement already satisfied: opencv-python in c:\\users\\shaghayegh.kazemlou\\appdata\\local\\continuum\\anaconda3\\lib\\site-packages (4.4.0.42)\n",
      "Requirement already satisfied: numpy>=1.14.5 in c:\\users\\shaghayegh.kazemlou\\appdata\\local\\continuum\\anaconda3\\lib\\site-packages (from opencv-python) (1.16.5)\n"
     ]
    }
   ],
   "source": [
    "!pip install opencv-python"
   ]
  },
  {
   "cell_type": "code",
   "execution_count": 63,
   "metadata": {},
   "outputs": [],
   "source": [
    "import numpy as np\n",
    "import matplotlib.pyplot as plt\n",
    "from glob import glob\n",
    "\n",
    "import csv\n",
    "import xlsxwriter\n",
    "from tabulate import tabulate\n",
    "import pandas as pd\n",
    "from pprint import pprint\n",
    "\n",
    "import seaborn as sn\n",
    "from sklearn.metrics import confusion_matrix\n",
    "from sklearn.metrics import roc_curve, auc, RocCurveDisplay\n",
    "\n",
    "from AST_Infer_Utils import *"
   ]
  },
  {
   "cell_type": "code",
   "execution_count": null,
   "metadata": {},
   "outputs": [],
   "source": []
  },
  {
   "cell_type": "code",
   "execution_count": 77,
   "metadata": {},
   "outputs": [],
   "source": [
    "resetInferDataDict()\n",
    "yTruthAll = np.array([])\n",
    "yPredAll = np.array([])\n",
    "infoListAll=np.array([])\n",
    "\n",
    "\n",
    "# test_df is the inout set, I used my test set here, you can use any alternative set\n",
    "\n",
    "for index, row in test_df.iterrows():\n",
    "    numFeatures = row[features]\n",
    "    yTruth = row['GI']\n",
    "    infoList = ['', 0, row['strain'], row['SampleID'], row['anti'], row['conc'], '0']\n",
    "    \n",
    "#    print(row['strain'])\n",
    "    \n",
    "    \n",
    "    yPred = myclf.predict([numFeatures])\n",
    "    \n",
    "    infoList = [infoList]\n",
    "    \n",
    "    yTruth = np.array(yTruth).reshape(1,1)\n",
    "    yPred = np.array(yPred).reshape(1,1)\n",
    "\n",
    "    \n",
    "    \n",
    "    if yTruthAll.size!=0:\n",
    "        yTruthAll=np.concatenate([yTruthAll, yTruth], axis=0)\n",
    "    else:\n",
    "        yTruthAll=yTruth\n",
    "    if yPredAll.size!=0:\n",
    "        yPredAll=np.concatenate([yPredAll, yPred], axis=0)\n",
    "    else:\n",
    "        yPredAll=yPred\n",
    "        \n",
    "    if infoListAll.size!=0:\n",
    "        infoListAll=np.concatenate([infoListAll, infoList], axis=0)\n",
    "    else:\n",
    "        infoListAll=np.array(infoList)\n",
    "\n",
    "    addInferData(infoList, yTruth, yPred)\n",
    "    \n",
    "    \n",
    "    \n",
    "# not needed, this will be done in a later section\n",
    "#groupCount, accAACount, accEACount, undetCount, strainSet, drugSet = compileAllInferData(growthThresh)\n"
   ]
  },
  {
   "cell_type": "code",
   "execution_count": 79,
   "metadata": {},
   "outputs": [
    {
     "name": "stdout",
     "output_type": "stream",
     "text": [
      "totally 55613 valid examples\n"
     ]
    }
   ],
   "source": [
    "# please find file \"GramNeg_FullSample.csv\" in the email I sent\n",
    "\n",
    "csvFileName = 'GramNeg_FullSample.csv'\n",
    "# csvFileName = 'GramPos/GramPos_FullSample.csv'\n",
    "\n",
    "dataDict = []\n",
    "indMap = {}\n",
    "\n",
    "\n",
    "with open(csvFileName, 'r') as csvFile:\n",
    "    csvReader = csv.DictReader(csvFile)\n",
    "    \n",
    "    for n, line in enumerate(csvReader):            \n",
    "        dataDict.append(line)\n",
    "        indMap[int(line['Index'])] = n\n",
    "        \n",
    "dataDict[0]['data_type'] = ''\n",
    "dataDict[0]['GI_pred'] = ''\n",
    "        \n",
    "print('totally %d valid examples' %len(dataDict))"
   ]
  },
  {
   "cell_type": "code",
   "execution_count": 80,
   "metadata": {},
   "outputs": [],
   "source": [
    "# set your local path here, where your EA results is going to be stored \n",
    "\n",
    "dataPath = 'C:/Users/Shaghayegh.kazemlou/Shay/Danaher/Microbiology/Code/Peng/'\n",
    "\n",
    "predCSVFileName = dataPath + 'GramNeg_Predict.csv'\n",
    "\n",
    "with open(predCSVFileName, 'w') as csvFile:\n",
    "    sampleLine = dataDict[0]\n",
    "    csvWriter = csv.DictWriter(csvFile, sampleLine.keys())\n",
    "    csvWriter.writeheader()\n",
    "    \n",
    "    for line in dataDict:\n",
    "        csvWriter.writerow(line)"
   ]
  },
  {
   "cell_type": "code",
   "execution_count": 81,
   "metadata": {},
   "outputs": [],
   "source": [
    "predXLSXFileName = dataPath + 'GramNeg_Predict.xlsx'\n",
    "workBook = xlsxwriter.Workbook(predXLSXFileName, {'strings_to_numbers': True, 'nan_inf_to_errors': True})\n",
    "\n",
    "workSheet = workBook.add_worksheet('sample prediction')\n",
    "\n",
    "workSheet.write_row(0, 0, dataDict[0].keys())\n",
    "for n, row in enumerate(dataDict):\n",
    "    workSheet.write_row(n+1, 0, row.values())"
   ]
  },
  {
   "cell_type": "code",
   "execution_count": 82,
   "metadata": {},
   "outputs": [
    {
     "name": "stdout",
     "output_type": "stream",
     "text": [
      "!!! Undetermined MIC in labelled data: 55359, ST !!!\n",
      "!!! Undetermined MIC in labelled data: 49917, CFPM !!!\n"
     ]
    }
   ],
   "source": [
    "groupCount, accAACount, accEACount, undetCount, strainSet, drugSet = compileAllInferData(growthThresh)\n",
    "\n",
    "groupCount = np.pad(groupCount, ((0,1),(0,1)), 'constant')\n",
    "accAACount = np.pad(accAACount, ((0,1),(0,1)), 'constant')\n",
    "accEACount = np.pad(accEACount, ((0,1),(0,1)), 'constant')\n",
    "undetCount = np.pad(undetCount, ((0,1),(0,1)), 'constant')"
   ]
  },
  {
   "cell_type": "code",
   "execution_count": 83,
   "metadata": {},
   "outputs": [
    {
     "data": {
      "text/plain": [
       "['E.COLI',\n",
       " 'K.OXYTOCA',\n",
       " 'S.MARCESCENS',\n",
       " 'P.VULGARIS',\n",
       " 'A.BAUMANNII',\n",
       " 'E.AEROGENES',\n",
       " 'C.FREUNDII',\n",
       " 'K.PNEUMONIAE',\n",
       " 'E.CLOACAE',\n",
       " 'P.RETTGERI',\n",
       " 'P.MIRABILIS',\n",
       " 'P.AERUGINOSA']"
      ]
     },
     "execution_count": 83,
     "metadata": {},
     "output_type": "execute_result"
    }
   ],
   "source": [
    "strainSet"
   ]
  },
  {
   "cell_type": "code",
   "execution_count": 84,
   "metadata": {},
   "outputs": [],
   "source": [
    "\n",
    "yPredBinaryAll = (yPredAll > growthThresh)\n",
    "\n",
    "sampCount = np.zeros((25, 25))\n",
    "errCount = np.zeros((25, 25))\n",
    "\n",
    "bias0Cent = 10\n",
    "sampCountByBias = np.zeros(bias0Cent*2 + 1)\n",
    "errCountByBias = np.zeros(bias0Cent*2 + 1)\n",
    "\n",
    "for (yt, yp, info) in zip(yTruthAll, yPredBinaryAll, infoListAll):\n",
    "    \n",
    "    if info[4] not in drugSet:\n",
    "        drugSet.append(info[4])\n",
    "\n",
    "    colInd = drugSet.index(info[4])\n",
    "\n",
    "    if info[2] not in strainSet:\n",
    "        strainSet.append(info[2])\n",
    "\n",
    "    rowInd = strainSet.index(info[2])\n",
    "    \n",
    "#   wellBias = int(info[6])\n",
    "#   biasInd = wellBias + bias0Cent\n",
    "\n",
    "    sampCount[rowInd, colInd] += 1\n",
    "#    sampCountByBias[biasInd] += 1\n",
    "\n",
    "    if yp != yt:   \n",
    "        errCount[rowInd, colInd] += 1    \n",
    "#        errCountByBias[biasInd] += 1\n",
    "    \n",
    "sampCount = sampCount[0:len(strainSet)+1, 0:len(drugSet)+1]\n",
    "errCount = errCount[0:len(strainSet)+1, 0:len(drugSet)+1]\n",
    "\n",
    "#biasEff = np.where(sampCountByBias > 0)\n",
    "#biasLow = np.min(biasEff)\n",
    "#biasHigh = np.max(biasEff)+1\n",
    "#biasRange = np.arange(biasLow-bias0Cent, biasHigh-bias0Cent)\n",
    "#bias0Cent -= biasLow\n",
    "#sampCountByBias = sampCountByBias[biasLow:biasHigh]\n",
    "#errCountByBias = errCountByBias[biasLow:biasHigh]"
   ]
  },
  {
   "cell_type": "code",
   "execution_count": 85,
   "metadata": {},
   "outputs": [
    {
     "data": {
      "text/plain": [
       "['E.COLI',\n",
       " 'K.OXYTOCA',\n",
       " 'S.MARCESCENS',\n",
       " 'P.VULGARIS',\n",
       " 'A.BAUMANNII',\n",
       " 'E.AEROGENES',\n",
       " 'C.FREUNDII',\n",
       " 'K.PNEUMONIAE',\n",
       " 'E.CLOACAE',\n",
       " 'P.RETTGERI',\n",
       " 'P.MIRABILIS',\n",
       " 'P.AERUGINOSA']"
      ]
     },
     "execution_count": 85,
     "metadata": {},
     "output_type": "execute_result"
    }
   ],
   "source": [
    "strainSet"
   ]
  },
  {
   "cell_type": "code",
   "execution_count": null,
   "metadata": {},
   "outputs": [],
   "source": []
  },
  {
   "cell_type": "code",
   "execution_count": 86,
   "metadata": {},
   "outputs": [],
   "source": [
    "sampCount[:,-1] = np.sum(sampCount, axis=1)\n",
    "sampCount[-1,:] = np.sum(sampCount, axis=0)\n",
    "errCount[:,-1] = np.sum(errCount, axis=1)\n",
    "errCount[-1,:] = np.sum(errCount, axis=0)\n",
    "groupCount[:,-1] = np.sum(groupCount, axis=1)\n",
    "groupCount[-1,:] = np.sum(groupCount, axis=0)\n",
    "accAACount[:,-1] = np.sum(accAACount, axis=1)\n",
    "accAACount[-1,:] = np.sum(accAACount, axis=0)\n",
    "accEACount[:,-1] = np.sum(accEACount, axis=1)\n",
    "accEACount[-1,:] = np.sum(accEACount, axis=0)\n",
    "undetCount[:,-1] = np.sum(undetCount, axis=1)\n",
    "undetCount[-1,:] = np.sum(undetCount, axis=0)"
   ]
  },
  {
   "cell_type": "code",
   "execution_count": 87,
   "metadata": {},
   "outputs": [
    {
     "name": "stdout",
     "output_type": "stream",
     "text": [
      "example count by species & drug groups\n",
      "+--------+------+------+------+------+------+------+------+------+------+------+------+------+-------+\n",
      "|        |  GM  | TOB  | CPFX |  AS  | LVFX | IPM  | MEPM |  ST  | CAZ  | CTX  | CFPM |  TP  |  SUM  |\n",
      "+--------+------+------+------+------+------+------+------+------+------+------+------+------+-------+\n",
      "| E.COLI | 133  | 154  | 199  | 173  | 218  | 280  | 125  |  95  | 119  | 255  | 142  | 127  | 2020  |\n",
      "| K.OXYT | 110  | 105  | 167  | 113  | 105  | 121  | 139  |  65  | 110  |  95  | 103  | 130  | 1363  |\n",
      "| S.MARC |  84  | 143  | 140  |  90  | 123  | 119  | 133  | 100  | 161  | 148  | 126  | 133  | 1500  |\n",
      "| P.VULG | 139  |  98  | 152  | 102  | 133  | 133  | 163  |  85  | 119  | 156  | 132  |  70  | 1482  |\n",
      "| A.BAUM | 111  | 190  | 205  | 102  | 199  | 126  | 212  | 119  | 217  | 119  | 152  | 187  | 1939  |\n",
      "| E.AERO | 136  | 129  | 114  | 120  | 157  |  98  | 112  |  88  | 117  | 168  | 124  | 104  | 1467  |\n",
      "| C.FREU | 188  | 132  | 138  |  78  | 112  |  95  |  95  |  95  | 152  |  91  | 112  | 182  | 1470  |\n",
      "| K.PNEU | 140  | 151  | 147  | 127  | 103  |  63  |  61  | 121  | 150  | 169  | 116  |  81  | 1429  |\n",
      "| E.CLOA | 133  | 133  | 140  |  90  | 117  | 112  | 119  |  75  | 133  | 115  | 154  | 111  | 1432  |\n",
      "| P.RETT | 140  | 147  | 155  | 101  | 131  | 133  | 140  |  95  |  89  | 105  | 138  | 116  | 1490  |\n",
      "| P.MIRA | 183  | 164  | 143  | 138  | 182  | 105  | 135  |  95  | 124  | 171  | 151  | 191  | 1782  |\n",
      "| P.AERU | 125  | 211  | 137  | 130  |  93  |  70  | 181  |  91  | 123  | 141  | 118  | 154  | 1574  |\n",
      "|  SUM   | 1622 | 1757 | 1837 | 1364 | 1673 | 1455 | 1615 | 1124 | 1614 | 1733 | 1568 | 1586 | 18948 |\n",
      "+--------+------+------+------+------+------+------+------+------+------+------+------+------+-------+\n",
      "\n",
      "dilution group count by species & drug groups\n",
      "+--------+-----+-----+------+-----+------+-----+------+-----+-----+-----+------+-----+------+\n",
      "|        | GM  | TOB | CPFX | AS  | LVFX | IPM | MEPM | ST  | CAZ | CTX | CFPM | TP  | SUM  |\n",
      "+--------+-----+-----+------+-----+------+-----+------+-----+-----+-----+------+-----+------+\n",
      "| E.COLI | 18  | 21  |  19  | 17  |  20  | 25  |  18  | 14  | 15  | 25  |  17  | 17  | 226  |\n",
      "| K.OXYT | 16  | 15  |  24  | 19  |  15  | 18  |  20  | 13  | 16  | 15  |  15  | 19  | 205  |\n",
      "| S.MARC | 12  | 21  |  20  | 15  |  18  | 17  |  19  | 20  | 23  | 22  |  18  | 19  | 224  |\n",
      "| P.VULG | 20  | 14  |  22  | 17  |  19  | 19  |  24  | 17  | 17  | 23  |  19  | 10  | 221  |\n",
      "| A.BAUM | 14  | 19  |  22  | 17  |  17  | 18  |  22  | 17  | 24  | 17  |  12  | 20  | 219  |\n",
      "| E.AERO | 20  | 19  |  17  | 20  |  23  | 14  |  16  | 18  | 17  | 24  |  18  | 15  | 221  |\n",
      "| C.FREU | 27  | 19  |  20  | 13  |  16  | 14  |  14  | 19  | 22  | 13  |  16  | 26  | 219  |\n",
      "| K.PNEU | 11  | 15  |  16  | 15  |  9   |  8  |  4   | 12  | 12  | 14  |  10  |  8  | 134  |\n",
      "| E.CLOA | 19  | 19  |  20  | 15  |  17  | 16  |  17  | 15  | 19  | 17  |  22  | 16  | 212  |\n",
      "| P.RETT | 20  | 21  |  23  | 17  |  19  | 19  |  20  | 19  | 13  | 15  |  20  | 17  | 223  |\n",
      "| P.MIRA | 17  | 14  |  16  | 17  |  19  |  7  |  14  | 14  | 15  | 19  |  18  | 19  | 189  |\n",
      "| P.AERU | 10  | 21  |  17  | 15  |  11  | 11  |  20  | 12  | 16  | 11  |  12  | 15  | 171  |\n",
      "|  SUM   | 204 | 218 | 236  | 197 | 203  | 186 | 208  | 190 | 209 | 215 | 197  | 201 | 2464 |\n",
      "+--------+-----+-----+------+-----+------+-----+------+-----+-----+-----+------+-----+------+\n",
      "\n",
      "G/I accuracy in % by species & drug groups\n",
      "+--------+------+------+------+------+------+------+------+------+------+------+------+------+------+\n",
      "|        |  GM  | TOB  | CPFX |  AS  | LVFX | IPM  | MEPM |  ST  | CAZ  | CTX  | CFPM |  TP  | MEAN |\n",
      "+--------+------+------+------+------+------+------+------+------+------+------+------+------+------+\n",
      "| E.COLI | 89.5 | 92.2 | 98.0 | 90.8 | 98.6 | 84.6 | 97.6 | 95.8 | 91.6 | 89.0 | 93.0 | 85.0 | 91.8 |\n",
      "| K.OXYT | 94.5 | 93.3 | 97.0 | 92.0 | 95.2 | 91.7 | 98.6 | 98.5 | 95.5 | 91.6 | 82.5 | 87.7 | 93.3 |\n",
      "| S.MARC | 94.0 | 97.9 | 94.3 | 97.8 | 93.5 | 95.8 | 87.2 | 85.0 | 90.1 | 91.9 | 89.7 | 87.2 | 91.9 |\n",
      "| P.VULG | 93.5 | 92.9 | 96.1 | 90.2 | 94.0 | 92.5 | 79.8 | 95.3 | 89.1 | 79.5 | 92.4 | 75.7 | 89.3 |\n",
      "| A.BAUM | 90.1 | 91.6 | 93.2 | 90.2 | 94.0 | 96.8 | 90.1 | 83.2 | 90.8 | 90.8 | 87.5 | 77.0 | 89.6 |\n",
      "| E.AERO | 91.9 | 94.6 | 92.1 | 90.0 | 94.9 | 75.5 | 90.2 | 93.2 | 93.2 | 89.9 | 96.0 | 83.7 | 90.8 |\n",
      "| C.FREU | 94.1 | 91.7 | 92.8 | 88.5 | 91.1 | 81.1 | 97.9 | 87.4 | 82.2 | 82.4 | 83.9 | 75.3 | 87.1 |\n",
      "| K.PNEU | 95.0 | 94.7 | 93.2 | 89.0 | 95.1 | 87.3 | 85.2 | 85.1 | 86.0 | 74.0 | 81.9 | 84.0 | 87.5 |\n",
      "| E.CLOA | 94.7 | 92.5 | 91.4 | 97.8 | 92.3 | 78.6 | 86.6 | 84.0 | 91.7 | 87.0 | 81.2 | 79.3 | 88.1 |\n",
      "| P.RETT | 83.6 | 88.4 | 94.2 | 80.2 | 92.4 | 85.7 | 86.4 | 83.2 | 86.5 | 89.5 | 83.3 | 73.3 | 85.9 |\n",
      "| P.MIRA | 86.3 | 75.6 | 93.7 | 86.2 | 96.2 | 86.7 | 78.5 | 90.5 | 86.3 | 91.2 | 80.8 | 79.1 | 85.8 |\n",
      "| P.AERU | 86.4 | 84.4 | 85.4 | 80.8 | 87.1 | 81.4 | 76.2 | 80.2 | 72.4 | 86.5 | 87.3 | 81.2 | 82.3 |\n",
      "|  MEAN  | 91.0 | 90.3 | 93.7 | 89.1 | 94.2 | 86.8 | 87.3 | 88.0 | 88.0 | 86.8 | 86.6 | 80.5 | 88.6 |\n",
      "+--------+------+------+------+------+------+------+------+------+------+------+------+------+------+\n",
      "\n",
      "AA accuracy in % by species & drug groups\n",
      "+--------+------+------+------+------+------+------+------+------+------+------+------+------+------+\n",
      "|        |  GM  | TOB  | CPFX |  AS  | LVFX | IPM  | MEPM |  ST  | CAZ  | CTX  | CFPM |  TP  | MEAN |\n",
      "+--------+------+------+------+------+------+------+------+------+------+------+------+------+------+\n",
      "| E.COLI | 38.9 | 57.1 | 89.5 | 58.8 | 90.0 | 28.0 | 83.3 | 78.6 | 66.7 | 56.0 | 58.8 | 47.1 | 61.5 |\n",
      "| K.OXYT | 62.5 | 53.3 | 83.3 | 52.6 | 66.7 | 55.6 | 90.0 | 92.3 | 75.0 | 60.0 | 33.3 | 47.4 | 64.9 |\n",
      "| S.MARC | 58.3 | 85.7 | 65.0 | 86.7 | 61.1 | 70.6 | 47.4 | 40.0 | 60.9 | 63.6 | 50.0 | 52.6 | 61.6 |\n",
      "| P.VULG | 65.0 | 64.3 | 90.9 | 47.1 | 57.9 | 57.9 | 25.0 | 88.2 | 64.7 | 39.1 | 73.7 | 40.0 | 59.3 |\n",
      "| A.BAUM | 50.0 | 47.4 | 63.6 | 47.1 | 70.6 | 77.8 | 50.0 | 52.9 | 45.8 | 52.9 | 8.3  | 25.0 | 50.2 |\n",
      "| E.AERO | 55.0 | 68.4 | 52.9 | 65.0 | 73.9 | 14.3 | 56.2 | 77.8 | 76.5 | 54.2 | 72.2 | 33.3 | 59.7 |\n",
      "| C.FREU | 59.3 | 47.4 | 60.0 | 53.8 | 50.0 | 7.1  | 85.7 | 73.7 | 36.4 | 46.2 | 31.2 | 15.4 | 46.6 |\n",
      "| K.PNEU | 63.6 | 66.7 | 87.5 | 53.3 | 66.7 | 62.5 | 75.0 | 75.0 | 41.7 | 28.6 | 30.0 | 37.5 | 57.5 |\n",
      "| E.CLOA | 73.7 | 52.6 | 60.0 | 86.7 | 47.1 | 18.8 | 64.7 | 46.7 | 68.4 | 47.1 | 22.7 | 31.2 | 51.4 |\n",
      "| P.RETT | 20.0 | 33.3 | 69.6 | 35.3 | 57.9 | 31.6 | 40.0 | 57.9 | 53.8 | 46.7 | 25.0 | 29.4 | 41.7 |\n",
      "| P.MIRA | 58.8 | 35.7 | 68.8 | 29.4 | 84.2 | 57.1 | 50.0 | 71.4 | 46.7 | 63.2 | 27.8 | 47.4 | 53.4 |\n",
      "| P.AERU | 60.0 | 38.1 | 35.3 | 53.3 | 36.4 | 45.5 | 20.0 | 75.0 | 6.2  | 27.3 | 33.3 | 13.3 | 35.1 |\n",
      "|  MEAN  | 54.9 | 54.1 | 69.5 | 55.3 | 65.0 | 43.0 | 54.3 | 67.9 | 53.6 | 50.2 | 40.1 | 34.3 | 53.8 |\n",
      "+--------+------+------+------+------+------+------+------+------+------+------+------+------+------+\n",
      "\n",
      "EA accuracy in % by species & drug groups\n",
      "+--------+-------+-------+-------+-------+-------+-------+------+-------+------+------+------+------+------+\n",
      "|        |  GM   |  TOB  | CPFX  |  AS   | LVFX  |  IPM  | MEPM |  ST   | CAZ  | CTX  | CFPM |  TP  | MEAN |\n",
      "+--------+-------+-------+-------+-------+-------+-------+------+-------+------+------+------+------+------+\n",
      "| E.COLI | 83.3  | 90.5  | 94.7  | 100.0 | 95.0  | 60.0  | 94.4 | 92.9  | 80.0 | 76.0 | 76.5 | 76.5 | 84.1 |\n",
      "| K.OXYT | 93.8  | 100.0 | 95.8  | 94.7  | 93.3  | 94.4  | 90.0 | 92.3  | 93.8 | 86.7 | 46.7 | 57.9 | 86.8 |\n",
      "| S.MARC | 100.0 | 100.0 | 100.0 | 100.0 | 94.4  | 100.0 | 73.7 | 80.0  | 73.9 | 90.9 | 77.8 | 63.2 | 87.1 |\n",
      "| P.VULG | 90.0  | 85.7  | 90.9  | 88.2  | 78.9  | 89.5  | 41.7 | 88.2  | 70.6 | 56.5 | 78.9 | 50.0 | 75.6 |\n",
      "| A.BAUM | 85.7  | 94.7  | 95.5  | 94.1  | 100.0 | 94.4  | 86.4 | 70.6  | 91.7 | 88.2 | 75.0 | 40.0 | 84.9 |\n",
      "| E.AERO | 95.0  | 94.7  | 76.5  | 80.0  | 91.3  | 42.9  | 62.5 | 83.3  | 82.4 | 70.8 | 83.3 | 73.3 | 79.2 |\n",
      "| C.FREU | 96.3  | 94.7  | 85.0  | 92.3  | 87.5  | 64.3  | 85.7 | 73.7  | 59.1 | 61.5 | 50.0 | 50.0 | 74.9 |\n",
      "| K.PNEU | 90.9  | 93.3  | 93.8  | 86.7  | 88.9  | 87.5  | 75.0 | 100.0 | 58.3 | 35.7 | 50.0 | 62.5 | 77.6 |\n",
      "| E.CLOA | 89.5  | 94.7  | 85.0  | 100.0 | 94.1  | 37.5  | 64.7 | 80.0  | 78.9 | 70.6 | 36.4 | 50.0 | 73.1 |\n",
      "| P.RETT | 60.0  | 76.2  | 82.6  | 64.7  | 78.9  | 73.7  | 60.0 | 73.7  | 69.2 | 60.0 | 60.0 | 52.9 | 68.2 |\n",
      "| P.MIRA | 82.4  | 64.3  | 87.5  | 76.5  | 94.7  | 57.1  | 57.1 | 78.6  | 66.7 | 68.4 | 33.3 | 52.6 | 68.8 |\n",
      "| P.AERU | 80.0  | 71.4  | 76.5  | 60.0  | 100.0 | 63.6  | 70.0 | 75.0  | 43.8 | 90.9 | 66.7 | 46.7 | 69.0 |\n",
      "|  MEAN  | 87.3  | 88.5  | 89.0  | 86.3  | 91.1  | 73.1  | 71.2 | 81.6  | 73.2 | 71.6 | 60.9 | 55.7 | 77.7 |\n",
      "+--------+-------+-------+-------+-------+-------+-------+------+-------+------+------+------+------+------+\n",
      "\n",
      "undeter in % by species & drug groups\n",
      "+--------+-----+-----+------+-----+------+-----+------+-----+-----+-----+------+------+------+\n",
      "|        | GM  | TOB | CPFX | AS  | LVFX | IPM | MEPM | ST  | CAZ | CTX | CFPM |  TP  | SUM  |\n",
      "+--------+-----+-----+------+-----+------+-----+------+-----+-----+-----+------+------+------+\n",
      "| E.COLI | 0.0 | 0.0 | 0.0  | 0.0 | 0.0  | 0.0 | 0.0  | 0.0 | 0.0 | 0.0 | 0.0  | 1.0  | 1.0  |\n",
      "| K.OXYT | 0.0 | 0.0 | 0.0  | 0.0 | 0.0  | 0.0 | 0.0  | 0.0 | 0.0 | 0.0 | 0.0  | 0.0  | 0.0  |\n",
      "| S.MARC | 0.0 | 0.0 | 0.0  | 0.0 | 0.0  | 0.0 | 0.0  | 0.0 | 0.0 | 0.0 | 0.0  | 1.0  | 1.0  |\n",
      "| P.VULG | 0.0 | 0.0 | 0.0  | 0.0 | 0.0  | 0.0 | 0.0  | 0.0 | 0.0 | 1.0 | 1.0  | 3.0  | 5.0  |\n",
      "| A.BAUM | 0.0 | 1.0 | 0.0  | 0.0 | 0.0  | 0.0 | 0.0  | 0.0 | 0.0 | 0.0 | 0.0  | 0.0  | 1.0  |\n",
      "| E.AERO | 0.0 | 0.0 | 0.0  | 0.0 | 0.0  | 0.0 | 0.0  | 0.0 | 1.0 | 0.0 | 0.0  | 0.0  | 1.0  |\n",
      "| C.FREU | 0.0 | 0.0 | 1.0  | 0.0 | 0.0  | 0.0 | 1.0  | 0.0 | 2.0 | 1.0 | 1.0  | 3.0  | 9.0  |\n",
      "| K.PNEU | 0.0 | 0.0 | 0.0  | 1.0 | 0.0  | 0.0 | 0.0  | 0.0 | 0.0 | 0.0 | 0.0  | 0.0  | 1.0  |\n",
      "| E.CLOA | 0.0 | 0.0 | 1.0  | 0.0 | 0.0  | 0.0 | 1.0  | 0.0 | 0.0 | 0.0 | 1.0  | 1.0  | 4.0  |\n",
      "| P.RETT | 0.0 | 0.0 | 2.0  | 2.0 | 0.0  | 0.0 | 2.0  | 0.0 | 0.0 | 1.0 | 3.0  | 4.0  | 14.0 |\n",
      "| P.MIRA | 0.0 | 0.0 | 0.0  | 1.0 | 0.0  | 0.0 | 1.0  | 0.0 | 1.0 | 0.0 | 1.0  | 0.0  | 4.0  |\n",
      "| P.AERU | 0.0 | 0.0 | 2.0  | 1.0 | 0.0  | 0.0 | 0.0  | 0.0 | 3.0 | 0.0 | 0.0  | 2.0  | 8.0  |\n",
      "|  SUM   | 0.0 | 1.0 | 6.0  | 5.0 | 0.0  | 0.0 | 5.0  | 0.0 | 7.0 | 3.0 | 7.0  | 15.0 | 49.0 |\n",
      "+--------+-----+-----+------+-----+------+-----+------+-----+-----+-----+------+------+------+\n"
     ]
    }
   ],
   "source": [
    "tableHeader = list([''] + drugSet)\n",
    "tableDataCount = []\n",
    "tableDataGroupCount = []\n",
    "tableDataAcc = []\n",
    "tableDataAccAA = []\n",
    "tableDataAccEA = []\n",
    "tableDataUndet = []\n",
    "\n",
    "sampCount = sampCount.astype(int)\n",
    "groupCount = groupCount.astype(int)\n",
    "accRate = np.round((1 - errCount / sampCount) * 100, decimals=1)\n",
    "accAARate = np.round((accAACount / groupCount) * 100, decimals=1)\n",
    "accEARate = np.round((accEACount / groupCount) * 100, decimals=1)\n",
    "\n",
    "for n, strain in enumerate(strainSet):\n",
    "    tableDataCount.append([strainSet[n][0:6]] + list(sampCount[n]))\n",
    "    tableDataGroupCount.append([strainSet[n][0:6]] + list(groupCount[n]))\n",
    "    tableDataAcc.append([strainSet[n][0:6]] + list(accRate[n]))\n",
    "    tableDataAccAA.append([strainSet[n][0:6]] + list(accAARate[n]))\n",
    "    tableDataAccEA.append([strainSet[n][0:6]] + list(accEARate[n]))\n",
    "    tableDataUndet.append([strainSet[n][0:6]] + list(undetCount[n]))\n",
    "\n",
    "tableDataCount.append(['SUM'] + list(sampCount[-1,:]))\n",
    "tableDataGroupCount.append(['SUM'] + list(groupCount[-1,:]))\n",
    "tableDataAcc.append(['MEAN'] + list(accRate[-1,:]))\n",
    "tableDataAccAA.append(['MEAN'] + list(accAARate[-1,:]))\n",
    "tableDataAccEA.append(['MEAN'] + list(accEARate[-1,:]))\n",
    "tableDataUndet.append(['SUM'] + list(undetCount[-1,:]))\n",
    "\n",
    "sampCountTable = tabulate(tableDataCount, headers=tableHeader+['SUM'], tablefmt=\"pretty\")\n",
    "groupCountTable = tabulate(tableDataGroupCount, headers=tableHeader+['SUM'], tablefmt=\"pretty\")\n",
    "accRateTable = tabulate(tableDataAcc, headers=tableHeader+['MEAN'], tablefmt=\"pretty\", floatfmt=\".1f\")\n",
    "accAARateTable = tabulate(tableDataAccAA, headers=tableHeader+['MEAN'], tablefmt=\"pretty\", floatfmt=\".1f\")\n",
    "accEARateTable = tabulate(tableDataAccEA, headers=tableHeader+['MEAN'], tablefmt=\"pretty\", floatfmt=\".1f\")\n",
    "undetCountTable = tabulate(tableDataUndet, headers=tableHeader+['SUM'], tablefmt=\"pretty\")\n",
    "\n",
    "print('example count by species & drug groups')\n",
    "print(sampCountTable)\n",
    "print()\n",
    "print('dilution group count by species & drug groups')\n",
    "print(groupCountTable)\n",
    "print()\n",
    "print('G/I accuracy in % by species & drug groups')\n",
    "print(accRateTable)\n",
    "print()\n",
    "print('AA accuracy in % by species & drug groups')\n",
    "print(accAARateTable)\n",
    "print()\n",
    "print('EA accuracy in % by species & drug groups')\n",
    "print(accEARateTable)\n",
    "print()\n",
    "print('undeter in % by species & drug groups')\n",
    "print(undetCountTable)\n",
    "\n",
    "# plt.figure(figsize=(12,8))\n",
    "# sn.heatmap(accRate, annot=True, square=False)\n",
    "# plt.title('accuracy in % by species & drug groups')"
   ]
  },
  {
   "cell_type": "code",
   "execution_count": 88,
   "metadata": {},
   "outputs": [],
   "source": [
    "workSheet = workBook.add_worksheet('sample count by group')\n",
    "\n",
    "workSheet.write_row(0, 0, tableHeader+['SUM'])\n",
    "for n, row in enumerate(tableDataCount):\n",
    "    workSheet.write_row(n+1, 0, row)\n",
    "\n",
    "workSheet.write_row(n+4, 0, ['drugs:']+drugSet)\n",
    "workSheet.write_row(n+5, 0, ['species:']+strainSet)\n",
    "\n",
    "workSheet = workBook.add_worksheet('dilution group count by group')\n",
    "\n",
    "workSheet.write_row(0, 0, tableHeader+['SUM'])\n",
    "for n, row in enumerate(tableDataGroupCount):\n",
    "    workSheet.write_row(n+1, 0, row)\n",
    "\n",
    "workSheet.write_row(n+4, 0, ['drugs:']+drugSet)\n",
    "workSheet.write_row(n+5, 0, ['species:']+strainSet)\n",
    "\n",
    "workSheet = workBook.add_worksheet('accuracy by group')\n",
    "\n",
    "workSheet.write_row(0, 0, tableHeader+['MEAN'])\n",
    "for n, row in enumerate(tableDataAcc):\n",
    "    workSheet.write_row(n+1, 0, row)\n",
    "    \n",
    "workSheet.write_row(n+4, 0, ['drugs:']+drugSet)\n",
    "workSheet.write_row(n+5, 0, ['species:']+strainSet)\n",
    "\n",
    "workSheet = workBook.add_worksheet('AA accuracy by group')\n",
    "\n",
    "workSheet.write_row(0, 0, tableHeader+['MEAN'])\n",
    "for n, row in enumerate(tableDataAccAA):\n",
    "    workSheet.write_row(n+1, 0, row)\n",
    "    \n",
    "workSheet.write_row(n+4, 0, ['drugs:']+drugSet)\n",
    "workSheet.write_row(n+5, 0, ['species:']+strainSet)\n",
    "\n",
    "workSheet = workBook.add_worksheet('EA accuracy by group')\n",
    "\n",
    "workSheet.write_row(0, 0, tableHeader+['MEAN'])\n",
    "for n, row in enumerate(tableDataAccEA):\n",
    "    workSheet.write_row(n+1, 0, row)\n",
    "    \n",
    "workSheet.write_row(n+4, 0, ['drugs:']+drugSet)\n",
    "workSheet.write_row(n+5, 0, ['species:']+strainSet)\n",
    "\n",
    "workSheet = workBook.add_worksheet('undertermined count by group')\n",
    "\n",
    "workSheet.write_row(0, 0, tableHeader+['SUM'])\n",
    "for n, row in enumerate(tableDataUndet):\n",
    "    workSheet.write_row(n+1, 0, row)\n",
    "\n",
    "workSheet.write_row(n+4, 0, ['drugs:']+drugSet)\n",
    "workSheet.write_row(n+5, 0, ['species:']+strainSet)\n",
    "\n",
    "workBook.close()"
   ]
  },
  {
   "cell_type": "code",
   "execution_count": 76,
   "metadata": {},
   "outputs": [
    {
     "name": "stderr",
     "output_type": "stream",
     "text": [
      "C:\\Users\\Shaghayegh.kazemlou\\AppData\\Local\\Continuum\\anaconda3\\lib\\site-packages\\ipykernel_launcher.py:1: RuntimeWarning: invalid value encountered in true_divide\n",
      "  \"\"\"Entry point for launching an IPython kernel.\n"
     ]
    },
    {
     "ename": "NameError",
     "evalue": "name 'biasRange' is not defined",
     "output_type": "error",
     "traceback": [
      "\u001b[1;31m---------------------------------------------------------------------------\u001b[0m",
      "\u001b[1;31mNameError\u001b[0m                                 Traceback (most recent call last)",
      "\u001b[1;32m<ipython-input-76-0500546aef81>\u001b[0m in \u001b[0;36m<module>\u001b[1;34m\u001b[0m\n\u001b[0;32m      1\u001b[0m \u001b[0maccRateByBias\u001b[0m \u001b[1;33m=\u001b[0m \u001b[0mnp\u001b[0m\u001b[1;33m.\u001b[0m\u001b[0mround\u001b[0m\u001b[1;33m(\u001b[0m\u001b[1;36m1\u001b[0m \u001b[1;33m-\u001b[0m \u001b[0merrCountByBias\u001b[0m \u001b[1;33m/\u001b[0m \u001b[0msampCountByBias\u001b[0m\u001b[1;33m,\u001b[0m \u001b[0mdecimals\u001b[0m\u001b[1;33m=\u001b[0m\u001b[1;36m3\u001b[0m\u001b[1;33m)\u001b[0m\u001b[1;33m\u001b[0m\u001b[1;33m\u001b[0m\u001b[0m\n\u001b[0;32m      2\u001b[0m \u001b[1;33m\u001b[0m\u001b[0m\n\u001b[1;32m----> 3\u001b[1;33m \u001b[0mplt\u001b[0m\u001b[1;33m.\u001b[0m\u001b[0mplot\u001b[0m\u001b[1;33m(\u001b[0m\u001b[0mbiasRange\u001b[0m\u001b[1;33m,\u001b[0m \u001b[0maccRateByBias\u001b[0m\u001b[1;33m,\u001b[0m \u001b[1;34m'r*-'\u001b[0m\u001b[1;33m)\u001b[0m\u001b[1;33m\u001b[0m\u001b[1;33m\u001b[0m\u001b[0m\n\u001b[0m\u001b[0;32m      4\u001b[0m \u001b[0mplt\u001b[0m\u001b[1;33m.\u001b[0m\u001b[0mxlabel\u001b[0m\u001b[1;33m(\u001b[0m\u001b[1;34m'well bias'\u001b[0m\u001b[1;33m)\u001b[0m\u001b[1;33m\u001b[0m\u001b[1;33m\u001b[0m\u001b[0m\n\u001b[0;32m      5\u001b[0m \u001b[0mplt\u001b[0m\u001b[1;33m.\u001b[0m\u001b[0mylabel\u001b[0m\u001b[1;33m(\u001b[0m\u001b[1;34m'accuracy'\u001b[0m\u001b[1;33m)\u001b[0m\u001b[1;33m\u001b[0m\u001b[1;33m\u001b[0m\u001b[0m\n",
      "\u001b[1;31mNameError\u001b[0m: name 'biasRange' is not defined"
     ]
    }
   ],
   "source": [
    "accRateByBias = np.round(1 - errCountByBias / sampCountByBias, decimals=3)\n",
    "\n",
    "plt.plot(biasRange, accRateByBias, 'r*-')\n",
    "plt.xlabel('well bias')\n",
    "plt.ylabel('accuracy')\n",
    "plt.title('accuracy by well bias')\n",
    "print(accRateByBias)"
   ]
  }
 ],
 "metadata": {
  "kernelspec": {
   "display_name": "Python 3",
   "language": "python",
   "name": "python3"
  },
  "language_info": {
   "codemirror_mode": {
    "name": "ipython",
    "version": 3
   },
   "file_extension": ".py",
   "mimetype": "text/x-python",
   "name": "python",
   "nbconvert_exporter": "python",
   "pygments_lexer": "ipython3",
   "version": "3.7.4"
  }
 },
 "nbformat": 4,
 "nbformat_minor": 4
}
